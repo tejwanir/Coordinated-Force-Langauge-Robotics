{
 "cells": [
  {
   "cell_type": "code",
   "execution_count": null,
   "metadata": {},
   "outputs": [],
   "source": [
    "import preamble\n",
    "import os\n",
    "import numpy as np\n",
    "from numpy.typing import NDArray\n",
    "from phrase_trial_data import PhraseTrialData\n",
    "\n",
    "DIRECTORY = \"phrase_trial_data\"\n",
    "FORCE_THRESHOLD = 7"
   ]
  },
  {
   "cell_type": "code",
   "execution_count": null,
   "metadata": {},
   "outputs": [],
   "source": [
    "data = PhraseTrialData(\"move up\", user_id=1)\n",
    "data.append(time=0, dt=0.0, position=np.array([0, 0, 0]), velocity=np.array([0, 0, 0]), force=np.array([0, 0, 0]))\n",
    "data.save()"
   ]
  },
  {
   "cell_type": "code",
   "execution_count": null,
   "metadata": {},
   "outputs": [],
   "source": [
    "def compute_average_force(data: PhraseTrialData) -> NDArray:\n",
    "    force = np.array(data.force)\n",
    "    dt = np.array(data.dt)\n",
    "\n",
    "    filtered_force = force * (force > FORCE_THRESHOLD)\n",
    "    filtered_dt = dt * (force > FORCE_THRESHOLD)\n",
    "\n",
    "    average_force = np.sum(filtered_force * filtered_dt, axis=0) / np.sum(filtered_dt)\n",
    "    return average_force\n",
    "\n",
    "for file_name in os.listdir(DIRECTORY):\n",
    "    if not file_name.endswith('.pkl'):\n",
    "        continue\n",
    "\n",
    "    file_path = os.path.join(DIRECTORY, file_name)\n",
    "    data = PhraseTrialData.load(file_path)\n",
    "\n",
    "    direction = data.get_direction()\n",
    "    baseline_file_path = os.path.join(DIRECTORY, f'{data.user_id}__{direction}.pkl')\n",
    "    baseline_data = PhraseTrialData.load(baseline_file_path)\n",
    "\n",
    "    average_force = compute_average_force(data)\n",
    "    baseline_force = compute_average_force(data)\n",
    "\n",
    "    emphasis = np.linalg.norm(average_force) / np.linalg.norm(baseline_force)\n",
    "    average_direction = average_force / np.linalg.norm(average_force)\n",
    "    \n",
    "    row = [data.phrase, data.user_id, average_force, emphasis, average_direction]"
   ]
  }
 ],
 "metadata": {
  "kernelspec": {
   "display_name": "Python 3",
   "language": "python",
   "name": "python3"
  },
  "language_info": {
   "codemirror_mode": {
    "name": "ipython",
    "version": 3
   },
   "file_extension": ".py",
   "mimetype": "text/x-python",
   "name": "python",
   "nbconvert_exporter": "python",
   "pygments_lexer": "ipython3",
   "version": "3.8.20"
  }
 },
 "nbformat": 4,
 "nbformat_minor": 2
}
