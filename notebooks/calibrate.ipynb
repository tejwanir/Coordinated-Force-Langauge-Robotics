{
 "cells": [
  {
   "cell_type": "code",
   "execution_count": null,
   "metadata": {},
   "outputs": [],
   "source": [
    "import preamble\n",
    "from robot import Robot\n",
    "from rgbd_stream import RGBDStream_iOS\n",
    "from calibrator import Calibrator\n",
    "from virtual_dynamics import SimpleVirtualDynamics\n",
    "from timer import Timer\n",
    "import numpy as np"
   ]
  },
  {
   "cell_type": "code",
   "execution_count": null,
   "metadata": {},
   "outputs": [],
   "source": [
    "robot = Robot(\"169.254.9.43\",\n",
    "              translational_force_deadband=3.0,\n",
    "              rotational_force_deadband=0.5)\n",
    "robot.control.zeroFtSensor()"
   ]
  },
  {
   "cell_type": "code",
   "execution_count": null,
   "metadata": {},
   "outputs": [],
   "source": [
    "stream = RGBDStream_iOS()\n",
    "calibrator = Calibrator(stream, robot,\n",
    "                        marker_color=np.array([0.13, 0.65, 0.6]), N=500)\n",
    "dynamics = SimpleVirtualDynamics(M=np.array([20.0, 20.0, 20.0, 1.0, 1.0, 1.0]),\n",
    "                                 B=np.array([50.0, 50.0, 50.0, 8.0, 8.0, 8.0]),\n",
    "                                 K=0.0)\n",
    "timer = Timer()\n",
    "\n",
    "while calibrator.is_calibrating():\n",
    "    dt = timer.dt()\n",
    "\n",
    "    force = robot.get_force(Robot.TRANSLATION_ROTATION)\n",
    "    dynamics.apply_force(force, dt)\n",
    "\n",
    "    robot.set_velocity(dynamics.get_velocity(),\n",
    "                       Robot.TRANSLATION_ROTATION, acceleration=150)\n",
    "\n",
    "    calibrator.calibrate()\n",
    "\n",
    "robot.set_velocity(Robot.zeroed_translation_rotation())\n",
    "matrix = calibrator.compute_calibration_matrix()\n",
    "np.save('calibration_matrix.npy', matrix)"
   ]
  }
 ],
 "metadata": {
  "kernelspec": {
   "display_name": "Python 3",
   "language": "python",
   "name": "python3"
  },
  "language_info": {
   "codemirror_mode": {
    "name": "ipython",
    "version": 3
   },
   "file_extension": ".py",
   "mimetype": "text/x-python",
   "name": "python",
   "nbconvert_exporter": "python",
   "pygments_lexer": "ipython3",
   "version": "3.8.20"
  }
 },
 "nbformat": 4,
 "nbformat_minor": 2
}
