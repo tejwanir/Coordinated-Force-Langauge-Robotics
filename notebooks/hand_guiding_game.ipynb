{
 "cells": [
  {
   "cell_type": "code",
   "execution_count": 1,
   "metadata": {},
   "outputs": [],
   "source": [
    "import preamble\n",
    "from virtual_dynamics import SimpleVirtualDynamics\n",
    "from robot import Robot\n",
    "from app_loop import AppLoop\n",
    "from force_guider import SimpleForceGuider\n",
    "from language_generator import DirectionalLanguageGenerator\n",
    "from vocalizer import Vocalizer\n",
    "import numpy as np\n",
    "import random"
   ]
  },
  {
   "cell_type": "code",
   "execution_count": 2,
   "metadata": {},
   "outputs": [],
   "source": [
    "class HandGuidingGame(AppLoop):\n",
    "\n",
    "    MASS = 20\n",
    "    AXES = Robot.TRANSLATION\n",
    "    PHRASES = [\n",
    "        [\"\"],\n",
    "        [\"move <direction>\"],\n",
    "        [\"move <direction> more\"],\n",
    "        [\"You need to move <direction>\"]\n",
    "    ]\n",
    "    DIRECTION_PAIRS = [(\"right\", \"left\"), (\"forward\", \"backward\"), (\"down\", \"up\")]\n",
    "\n",
    "    def __init__(self, randomize_goal: bool = False, use_guiding_force: bool = True, use_language: bool = True) -> None:\n",
    "        super().__init__()\n",
    "        self.use_guiding_force = use_guiding_force\n",
    "        self.use_language = use_language\n",
    "        self.randomize_goal = randomize_goal\n",
    "\n",
    "    def startup(self) -> None:\n",
    "        self.robot = Robot(\"169.254.9.43\",\n",
    "                           translational_force_deadband=6.0,\n",
    "                           rotational_force_deadband=0.5)\n",
    "        self.robot.control.zeroFtSensor()\n",
    "\n",
    "        self.dynamics = SimpleVirtualDynamics(M=self.MASS, B=50, K=0)\n",
    "\n",
    "        if self.randomize_goal:\n",
    "            self.goal_point = np.array(\n",
    "                [random.uniform(-1.0, -0.5), random.uniform(-0.6, 0.6), random.uniform(0.0, 0.6)])\n",
    "        else:\n",
    "            self.goal_point = self.robot.get_pose(self.AXES)\n",
    "\n",
    "        self.force_guider = SimpleForceGuider()\n",
    "        self.language_generator = DirectionalLanguageGenerator(self.PHRASES, self.DIRECTION_PAIRS, magnitude_interval=12)\n",
    "        self.vocalizer = Vocalizer(buffer_period=2.0)\n",
    "\n",
    "    def update(self, t: float, dt: float) -> None:\n",
    "        period_start = self.robot.control.initPeriod()\n",
    "\n",
    "        F_human = self.robot.get_force(self.AXES)\n",
    "        velocity = self.robot.get_velocity(self.AXES)\n",
    "        delta_x = self.robot.get_pose(self.AXES) - self.goal_point\n",
    "        F_trajectory = -self.MASS * (velocity + 2.0 * delta_x)\n",
    "        F_error = F_trajectory - F_human\n",
    "\n",
    "        if self.use_guiding_force:\n",
    "            F_guide = self.force_guider.generate_guiding_force(F_error, F_human)\n",
    "        else:\n",
    "            F_guide = 0.0\n",
    "        \n",
    "        if self.use_language:\n",
    "            utterance = self.language_generator.generate(F_error)\n",
    "            if np.linalg.norm(delta_x) < 0.05:\n",
    "                utterance = \"You are at the goal.\"\n",
    "            self.vocalizer.utter(utterance)\n",
    "\n",
    "        self.dynamics.apply_force(F_human + F_guide, dt)\n",
    "        self.robot.set_velocity(self.dynamics.get_velocity(),\n",
    "                                Robot.TRANSLATION, acceleration=150)\n",
    "\n",
    "        self.robot.control.waitPeriod(period_start)\n",
    "\n",
    "    def shutdown(self) -> None:\n",
    "        self.robot.set_velocity(Robot.zeroed_translation_rotation())"
   ]
  },
  {
   "cell_type": "code",
   "execution_count": null,
   "metadata": {},
   "outputs": [],
   "source": [
    "app = HandGuidingGame(randomize_goal=True, use_guiding_force=True, use_language=True)\n",
    "app.run()"
   ]
  }
 ],
 "metadata": {
  "kernelspec": {
   "display_name": "Python 3",
   "language": "python",
   "name": "python3"
  },
  "language_info": {
   "codemirror_mode": {
    "name": "ipython",
    "version": 3
   },
   "file_extension": ".py",
   "mimetype": "text/x-python",
   "name": "python",
   "nbconvert_exporter": "python",
   "pygments_lexer": "ipython3",
   "version": "3.8.20"
  }
 },
 "nbformat": 4,
 "nbformat_minor": 2
}
